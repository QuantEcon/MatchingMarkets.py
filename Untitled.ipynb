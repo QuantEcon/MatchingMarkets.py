{
 "cells": [
  {
   "cell_type": "code",
   "execution_count": 1,
   "metadata": {
    "collapsed": true
   },
   "outputs": [],
   "source": [
    "import matchingmarkets as mm\n",
    "import numpy.random as rng\n",
    "\n",
    "newsim = mm.simulation(time_per_run=100, max_agents=5000,\n",
    "                       arrival_rate=15, success_prob=lambda: 0.3,\n",
    "                       typeGenerator=rng.randint,\n",
    "                       compatFct=mm.stochastic_neighborSameType,\n",
    "                       crit_input=3, numTypes=5)\n",
    "\n",
    "# Make sure matplotlib is __not__ inline for this\n",
    "newsim.graph(plot_time=0.8)\n"
   ]
  },
  {
   "cell_type": "code",
   "execution_count": null,
   "metadata": {
    "collapsed": true
   },
   "outputs": [],
   "source": []
  }
 ],
 "metadata": {
  "kernelspec": {
   "display_name": "Python 3",
   "language": "python",
   "name": "python3"
  },
  "language_info": {
   "codemirror_mode": {
    "name": "ipython",
    "version": 3
   },
   "file_extension": ".py",
   "mimetype": "text/x-python",
   "name": "python",
   "nbconvert_exporter": "python",
   "pygments_lexer": "ipython3",
   "version": "3.6.1"
  }
 },
 "nbformat": 4,
 "nbformat_minor": 2
}
